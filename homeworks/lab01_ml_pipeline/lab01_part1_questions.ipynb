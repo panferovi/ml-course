{
 "cells": [
  {
   "cell_type": "markdown",
   "metadata": {},
   "source": [
    "*Credits: materials from this notebook belong to YSDA [Practical DL](https://github.com/yandexdataschool/Practical_DL) course. Special thanks for making them available online.*"
   ]
  },
  {
   "cell_type": "markdown",
   "metadata": {},
   "source": [
    "# Lab assignment №1, part 1\n",
    "\n",
    "This lab assignment consists of several parts. You are supposed to make some transformations, train some models, estimate the quality of the models and explain your results.\n",
    "\n",
    "Several comments:\n",
    "* Don't hesitate to ask questions, it's a good practice.\n",
    "* No private/public sharing, please. The copied assignments will be graded with 0 points.\n",
    "* Blocks of this lab will be graded separately."
   ]
  },
  {
   "cell_type": "markdown",
   "metadata": {},
   "source": [
    "## 1. Matrix differentiation"
   ]
  },
  {
   "cell_type": "markdown",
   "metadata": {},
   "source": [
    "Since it easy to google every task please please please try to undestand what's going on. The \"just answer\" thing will be not counted, make sure to present derivation of your solution. It is absolutely OK if you found an answer on web then just exercise in $\\LaTeX$ copying it into here."
   ]
  },
  {
   "cell_type": "markdown",
   "metadata": {},
   "source": [
    "Useful links: \n",
    "[1](http://www.machinelearning.ru/wiki/images/2/2a/Matrix-Gauss.pdf)\n",
    "[2](http://www.atmos.washington.edu/~dennis/MatrixCalculus.pdf)"
   ]
  },
  {
   "cell_type": "markdown",
   "metadata": {},
   "source": [
    "## ex. 1"
   ]
  },
  {
   "cell_type": "markdown",
   "metadata": {},
   "source": [
    "$$  \n",
    "y = x^Tx,  \\quad x \\in \\mathbb{R}^N \n",
    "$$"
   ]
  },
  {
   "cell_type": "markdown",
   "metadata": {},
   "source": [
    "$$ y = \\sum_{i = 1}^N x_i ^ {2} $$\n",
    "$$ \\frac{\\partial y}{\\partial  x_i} = 2x_i $$\n",
    "\n",
    "$$\n",
    "\\frac{dy}{dx} = 2x, \\quad x \\in \\mathbb{R}^N \n",
    "$$ "
   ]
  },
  {
   "cell_type": "markdown",
   "metadata": {},
   "source": [
    "## ex. 2"
   ]
  },
  {
   "cell_type": "markdown",
   "metadata": {},
   "source": [
    "$$ y = tr(AB) \\quad A,B \\in \\mathbb{R}^{N \\times N} $$ "
   ]
  },
  {
   "cell_type": "markdown",
   "metadata": {},
   "source": [
    "$$ C = AB $$\n",
    "$$ c_{i i} = \\sum_{j = 1}^N a_{ij} \\cdot b_{ji} $$\n",
    "$$ y = \\sum_{i = 1}^N c_{i i} = \\sum_{i = 1}^N \\sum_{j = 1}^N a_{ij} \\cdot b_{ji} $$\n",
    "$$ \\frac{\\partial y}{\\partial a_{\\alpha \\beta}} = \\sum_{i = 1}^N \\sum_{j = 1}^N \\delta_{i \\alpha} \\delta_{j \\beta} \\cdot b_{ji} = b_{\\beta \\alpha}$$\n",
    "$$ \\frac{dy}{dA} = B^T$$"
   ]
  },
  {
   "cell_type": "markdown",
   "metadata": {},
   "source": [
    "## ex. 3"
   ]
  },
  {
   "cell_type": "markdown",
   "metadata": {},
   "source": [
    "$$  \n",
    "y = x^TAc , \\quad A\\in \\mathbb{R}^{N \\times N}, x\\in \\mathbb{R}^{N}, c\\in \\mathbb{R}^{N} \n",
    "$$"
   ]
  },
  {
   "cell_type": "markdown",
   "metadata": {},
   "source": [
    "$$ y = \\sum_{i = 1}^N \\sum_{j = 1}^N x_i a_{ij} c_j $$\n",
    "$$ \\frac{\\partial y}{\\partial x_\\alpha} = \\sum_{i = 1}^N \\sum_{j = 1}^N \\delta_{i \\alpha} a_{ij} c_j = \\sum_{j = 1}^N a_{\\alpha j} c_j $$\n",
    "$$ \\frac{dy}{dx} = Ac $$"
   ]
  },
  {
   "cell_type": "markdown",
   "metadata": {},
   "source": [
    "$$ \\frac{\\partial y}{\\partial a_{\\alpha \\beta}} = \\sum_{i = 1}^N \\sum_{j = 1}^N x_i \\delta_{i \\alpha} \\delta_{j \\beta} c_j = x_\\alpha c_\\beta $$\n",
    "$$ \\frac{dy}{dA} = x c^T$$"
   ]
  },
  {
   "cell_type": "markdown",
   "metadata": {},
   "source": [
    "Hint for the latter (one of the ways): use *ex. 2* result and the fact \n",
    "$$\n",
    "tr(ABC) = tr (CAB)\n",
    "$$"
   ]
  },
  {
   "cell_type": "markdown",
   "metadata": {},
   "source": [
    "## ex. 4"
   ]
  },
  {
   "cell_type": "markdown",
   "metadata": {},
   "source": [
    "Classic matrix factorization example. Given matrix $X$ you need to find $A$, $S$ to approximate $X$. This can be done by simple gradient descent iteratively alternating $A$ and $S$ updates.\n",
    "$$\n",
    "J = || X - AS ||_F^2  , \\quad A\\in \\mathbb{R}^{N \\times R} , \\quad S\\in \\mathbb{R}^{R \\times M}\n",
    "$$\n",
    "$$\n",
    "\\frac{dJ}{dS} = ? \n",
    "$$\n",
    "\n",
    "You may use one of the following approaches:"
   ]
  },
  {
   "cell_type": "markdown",
   "metadata": {},
   "source": [
    "#### First approach\n",
    "Using ex.2 and the fact:\n",
    "$$\n",
    "|| X ||_F^2 = tr(XX^T) \n",
    "$$ \n",
    "it is easy to derive gradients (you can find it in one of the refs). \n",
    "\n",
    "$$ Y = X - AS, \\quad Y\\in \\mathbb{R}^{N \\times M} $$\n",
    "$$ y_{i j} = \\sum_{k = 1}^R (x_{i j} - a_{i k} s_{k j} ) $$\n",
    "$$ || Y ||_F^2 = \\sum_{i = 1}^N \\sum_{j = 1}^M y_{i j}^2 = \\sum_{i = 1}^N \\sum_{j = 1}^M (\\sum_{k = 1}^R (x_{i j} - a_{i k} s_{k j} ))^2 $$\n",
    "$$ \\frac{\\partial J}{\\partial s_{\\alpha \\beta}} = -2 \\sum_{i = 1}^N \\sum_{j = 1}^M (\\sum_{k = 1}^R (x_{i j} - a_{i k} s_{k j}) \\cdot a_{ik} \\delta_{k \\alpha} \\delta_{j \\beta} ) =\n",
    "-2\\sum_{i = 1}^N a_{i \\alpha} (x_{i \\beta} - a_{i \\alpha} s_{\\alpha \\beta} ) $$\n",
    "$$ \\frac{dJ}{dS} = -2A^T(X - AS) = 2A^T(AS - X) $$"
   ]
  },
  {
   "cell_type": "markdown",
   "metadata": {},
   "source": [
    "#### Second approach\n",
    "You can use *slightly different techniques* if they suits you. Take a look at this derivation:\n",
    "\n",
    "<img src=\"grad.png\">(excerpt from [Handbook of blind source separation, Jutten, page 517](https://books.google.ru/books?id=PTbj03bYH6kC&printsec=frontcover&dq=Handbook+of+Blind+Source+Separation&hl=en&sa=X&ved=0ahUKEwi-q_apiJDLAhULvXIKHVXJDWcQ6AEIHDAA#v=onepage&q=Handbook%20of%20Blind%20Source%20Separation&f=false), open for better picture)."
   ]
  },
  {
   "cell_type": "markdown",
   "metadata": {},
   "source": [
    "#### Third approach\n",
    "And finally we can use chain rule! \n",
    "let $ F = AS $ \n",
    "\n",
    "**Find**\n",
    "$$\n",
    "\\frac{dJ}{dF} =  \n",
    "$$ \n",
    "and \n",
    "$$\n",
    "\\frac{dF}{dS} =  \n",
    "$$ \n",
    "(the shape should be $ NM \\times RM )$.\n",
    "\n",
    "Now it is easy do get desired gradients:\n",
    "$$\n",
    "\\frac{dJ}{dS} =  \n",
    "$$ "
   ]
  },
  {
   "cell_type": "markdown",
   "metadata": {
    "collapsed": true,
    "jupyter": {
     "outputs_hidden": true
    }
   },
   "source": [
    "## 2. kNN questions\n",
    "Here come the questions from the assignment0_01. Please, refer to the assignment0_01 to get the context of the questions."
   ]
  },
  {
   "cell_type": "markdown",
   "metadata": {},
   "source": [
    "### Question 1\n",
    "\n",
    "    Notice the structured patterns in the distance matrix, where some rows or columns are visible brighter. (Note that with the default color scheme black indicates low distances while white indicates high distances.)\n",
    "\n",
    "- What in the data is the cause behind the distinctly bright rows?\n",
    "- What causes the columns?\n",
    "\n",
    "*Your Answer:*\n",
    "\n",
    "- The reason of bright rows is that the test dataset is very different from the train dataset\n",
    "- Bright colums appear because the train data doesn't match with test dataset"
   ]
  },
  {
   "cell_type": "markdown",
   "metadata": {},
   "source": [
    "### Question 2\n",
    "\n",
    "We can also use other distance metrics such as L1 distance.\n",
    "For pixel values $p_{ij}^{(k)}$ at location $(i,j)$ of some image $I_k$, \n",
    "\n",
    "the mean $\\mu$ across all pixels over all images is $$\\mu=\\frac{1}{nhw}\\sum_{k=1}^n\\sum_{i=1}^{h}\\sum_{j=1}^{w}p_{ij}^{(k)}$$\n",
    "And the pixel-wise mean $\\mu_{ij}$ across all images is \n",
    "$$\\mu_{ij}=\\frac{1}{n}\\sum_{k=1}^np_{ij}^{(k)}.$$\n",
    "The general standard deviation $\\sigma$ and pixel-wise standard deviation $\\sigma_{ij}$ is defined similarly.\n",
    "\n",
    "Which of the following preprocessing steps will not change the performance of a Nearest Neighbor classifier that uses L1 distance? Select all that apply.\n",
    "1. Subtracting the mean $\\mu$ ($\\tilde{p}_{ij}^{(k)}=p_{ij}^{(k)}-\\mu$.)\n",
    "2. Subtracting the per pixel mean $\\mu_{ij}$  ($\\tilde{p}_{ij}^{(k)}=p_{ij}^{(k)}-\\mu_{ij}$.)\n",
    "3. Subtracting the mean $\\mu$ and dividing by the standard deviation $\\sigma$.\n",
    "4. Subtracting the pixel-wise mean $\\mu_{ij}$ and dividing by the pixel-wise standard deviation $\\sigma_{ij}$.\n",
    "5. Rotating the coordinate axes of the data.\n",
    "\n",
    "*Your Answer:* 1, 2, 3\n",
    "\n",
    "*Your Explanation:*\n",
    "\n",
    "1. The same distance\n",
    "   $$||\\tilde{x}^{(k)} - \\tilde{x}^{(l)}||_1 = \\sum_{i=1}^{h}\\sum_{j=1}^{w}|(p_{ij}^{(k)}-\\mu) - (p_{ij}^{(l)}-\\mu)| = ||x^{(k)} - x^{(l)}||_1$$\n",
    "2. The same distance\n",
    "   $$||\\tilde{x}^{(k)} - \\tilde{x}^{(l)}||_1 = \\sum_{i=1}^{h}\\sum_{j=1}^{w}|(p_{ij}^{(k)}-\\mu_{ij}) - (p_{ij}^{(l)}-\\mu_{ij})| = ||x^{(k)} - x^{(l)}||_1$$\n",
    "3. The same distance order\n",
    "   $$||\\tilde{x}^{(k)} - \\tilde{x}^{(l)}||_1 = \\sum_{i=1}^{h}\\sum_{j=1}^{w}|(p_{ij}^{(k)}-\\mu)/\\sigma - (p_{ij}^{(l)}-\\mu)/\\sigma| = \\frac{1}{\\sigma} ||x^{(k)} - x^{(l)}||_1 $$ \n",
    "   $$\\text{If} \\hspace{0.3cm} ||{x}^{(k)} - {x}^{(l)}||_1 < ||{x}^{(m)} - {x}^{(n)}||_1 \\Rightarrow ||\\tilde{x}^{(k)} - \\tilde{x}^{(l)}||_1 < ||\\tilde{x}^{(m)} - \\tilde{x}^{(n)}||_1$$\n",
    "4. The distance may change because we may have a different $\\sigma_{ij}$ for different pixels\n",
    "\n",
    "5. The distance order may not be preserved. Example:\n",
    "\n",
    "   $$\\tilde{x} = Ax$$\n",
    "\n",
    "   Rotation matrix:\n",
    "   $$ A =\n",
    "    \\begin{bmatrix}\n",
    "    \\frac{\\sqrt{2}}{2} & -\\frac{\\sqrt{2}}{2} \\\\\n",
    "    \\frac{\\sqrt{2}}{2} & ~~\\frac{\\sqrt{2}}{2} \\\\\n",
    "    \\end{bmatrix}\n",
    "   $$\n",
    "\n",
    "   Pixels and distances:\n",
    "   $$x_1 = [0, 2], x_2 = [2, -1], x_3 = [4, 2]$$\n",
    "   $$5 = ||x^{(0)} - x^{(1)}||_1 > ||x^{(0)} - x^{(2)}||_1 = 4$$\n",
    "   $$\\tilde{x}_1 = [1.4, 1.4], \\tilde{x}_2 = [0.7, -2.1], \\tilde{x}_3 = [4.2, -1.4]$$\n",
    "   $$4.2 = ||\\tilde{x}^{(0)} - \\tilde{x}^{(1)}||_1 < ||\\tilde{x}^{(0)} - \\tilde{x}^{(2)}||_1 = 5.7$$"
   ]
  },
  {
   "cell_type": "markdown",
   "metadata": {},
   "source": [
    "## Question 3\n",
    "\n",
    "Which of the following statements about $k$-Nearest Neighbor ($k$-NN) are true in a classification setting, and for all $k$? Select all that apply.\n",
    "1. The decision boundary (hyperplane between classes in feature space) of the k-NN classifier is linear.\n",
    "2. The training error of a 1-NN will always be lower than that of 5-NN.\n",
    "3. The test error of a 1-NN will always be lower than that of a 5-NN.\n",
    "4. The time needed to classify a test example with the k-NN classifier grows with the size of the training set.\n",
    "5. None of the above.\n",
    "\n",
    "*Your Answer:* 4\n",
    "\n",
    "*Your Explanation:*\n",
    "\n",
    "1. False. The boundary is only locally linear, but in general has a complex shape\n",
    "\n",
    "2. False. Training error for 1-NN equals 0. Although the error for 5-NN is almost always greater than 0, it can be equal to 0.\n",
    "\n",
    "3. False. It may be less\n",
    "\n",
    "4. True. For every test example k-NN bypasses all points of training set\n"
   ]
  }
 ],
 "metadata": {
  "kernelspec": {
   "display_name": "mipt",
   "language": "python",
   "name": "mipt"
  },
  "language_info": {
   "codemirror_mode": {
    "name": "ipython",
    "version": 3
   },
   "file_extension": ".py",
   "mimetype": "text/x-python",
   "name": "python",
   "nbconvert_exporter": "python",
   "pygments_lexer": "ipython3",
   "version": "3.9.5"
  }
 },
 "nbformat": 4,
 "nbformat_minor": 4
}
